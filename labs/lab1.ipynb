{
 "cells": [
  {
   "cell_type": "markdown",
   "id": "7d5792be-c055-47e4-81b2-67bdf24e1812",
   "metadata": {},
   "source": [
    "# 🚀 Your First Lab\n",
    "\n",
    "### 📖 Please read this section carefully. It’s a valuable introduction to help you get prepared. Even if it's a long read, it's essential!\n",
    "\n",
    "---\n",
    "\n",
    "## 🌌 Your First Frontier LLM Project\n",
    "\n",
    "Welcome to your first Frontier LLM project! In just a few minutes, you'll build a powerful, autonomous Agentic AI solution to solve a business problem.  \n",
    "\n",
    "But let’s start small and build our way up.  \n",
    "\n",
    "### 🌐 Project Goal: Creating a New Type of Web Browser\n",
    "\n",
    "You’ll be building a web browser that **takes a URL as input and returns a concise summary** of the page content—like a *Reader’s Digest* for the internet!\n",
    "\n",
    "By the end of this lab, you’ll have a functional AI tool capable of distilling vast amounts of information into clear, useful summaries.\n",
    "\n",
    "Ready to get started? Let’s dive in! 🌊\n"
   ]
  },
  {
   "cell_type": "markdown",
   "id": "5c11371d-92db-4833-890f-d8d087cbe05b",
   "metadata": {},
   "source": [
    "## 🧩 Getting Started: Tools & Resources\n",
    "\n",
    "### 📓 If You're New to Jupyter Lab\n",
    "Welcome to the wonderful world of Data Science experimentation! Once you’ve experienced Jupyter Lab, you’ll wonder how you ever lived without it.  \n",
    "\n",
    "- **Running Code:** Click inside any code cell (like the one below this text) and press `Shift + Return` to execute the code.  \n",
    "- **Adding Cells:** Use the ➕ button in the toolbar to add a new cell where you can print variables, test code snippets, or explore variations.  \n",
    "\n",
    "📚 I've prepared a notebook called **[Guide to Jupyter](Guide%20to%20Jupyter.ipynb)** to help you master Jupyter Lab. It covers:  \n",
    "- Adding Markdown comments  \n",
    "- Using `!` to run shell commands  \n",
    "- Leveraging `tqdm` to visualize progress  \n",
    "\n",
    "---\n",
    "\n",
    "### 💻 If You're New to the Command Line\n",
    "No worries! These excellent guides will get you up to speed:  \n",
    "- **[Command Line on PC](https://chatgpt.com/share/67b0acea-ba38-8012-9c34-7a2541052665)**  \n",
    "- **[Command Line on Mac](https://chatgpt.com/canvas/shared/67b0b10c93a081918210723867525d2b)**  \n",
    "\n",
    "---\n",
    "\n",
    "### 🖥️ If You Prefer Working in IDEs\n",
    "Prefer VSCode or PyCharm? No problem! These IDEs work great with lab notebooks too.  \n",
    "\n",
    "- If you'd like to work in **VSCode**, here are instructions from an AI friend on how to set it up:  \n",
    "  [VSCode Configuration Guide](https://chatgpt.com/share/676f2e19-c228-8012-9911-6ca42f8ed766)  \n",
    "\n",
    "---\n",
    "\n",
    "### 🐍 If You’d Like to Brush Up on Python\n",
    "Need a Python refresher? https://www.youtube.com/watch?v=t8pPdKYpowI  \n",
    "\n",
    "💡 Skip it if you’re already comfortable with code like this:  \n",
    "```python\n",
    "yield from {book.get(\"author\") for book in books if book.get(\"author\")}\n"
   ]
  },
  {
   "cell_type": "markdown",
   "id": "b209b4b7-fdfc-465b-a6ae-bcbaba3d8d92",
   "metadata": {},
   "source": [
    "## 🔑 Connecting to OpenAI\n",
    "\n",
    "The next step is to **load environment variables** from your `.env` file and establish a connection to OpenAI.  \n",
    "\n",
    "---\n",
    "\n",
    "### 📌 Setting Up Your OpenAI API Key\n",
    "\n",
    "Before connecting, you need to obtain your OpenAI API key. Follow these steps:\n",
    "\n",
    "1. **Sign Up / Log In to OpenAI**  \n",
    "   Visit [OpenAI’s platform](https://platform.openai.com/) and create an account if you haven’t already.\n",
    "\n",
    "2. **Generate an API Key**  \n",
    "   - Go to your [API Keys page](https://platform.openai.com/account/api-keys).  \n",
    "   - Click the **“Create new secret key”** button.  \n",
    "   - Copy the generated key and save it securely. You won’t be able to see it again!\n",
    "\n",
    "3. **Set Up Your `.env` File**  \n",
    "   Create a file named `.env` in the root directory of your project with the following content:  \n",
    "\n",
    "   ```\n",
    "   OPENAI_API_KEY=your_openai_api_key_here```\n",
    "   \n",
    "   🔒 **Important: Never share your API key publicly or commit it to version control systems like GitHub.**\n"
   ]
  },
  {
   "cell_type": "markdown",
   "id": "9d37aa78-3733-4424-81df-2def72553d53",
   "metadata": {},
   "source": [
    "📂 **_Loading Environment Variables and Connecting to OpenAI\n",
    "In the next cell, we'll load your environment variables and connect to OpenAI using the openai Python package._**"
   ]
  },
  {
   "cell_type": "code",
   "execution_count": null,
   "id": "019a9d14-064e-4aa2-9236-4f80f6718f7d",
   "metadata": {},
   "outputs": [],
   "source": [
    "# imports\n",
    "\n",
    "import os\n",
    "import requests\n",
    "from dotenv import load_dotenv\n",
    "from bs4 import BeautifulSoup\n",
    "from IPython.display import Markdown, display\n",
    "from openai import OpenAI\n",
    "\n",
    "# If you get an error running this cell, then please head over to the troubleshooting notebook!"
   ]
  },
  {
   "cell_type": "code",
   "execution_count": null,
   "id": "574c8014-cc01-4cc7-9d5c-0d148617b977",
   "metadata": {},
   "outputs": [],
   "source": [
    "# Load environment variables from .env file\n",
    "load_dotenv(override=True)\n",
    "#load_dotenv()\n",
    "\n",
    "# Retrieve API key\n",
    "openai.api_key = os.getenv(\"OPENAI_API_KEY\")\n",
    "\n",
    "# Test the connection by checking the API key\n",
    "# Check the key with a sprinkle of paranoia and a dash of sarcasm\n",
    "if not api_key:\n",
    "    print(\"🚫 No API key detected! Quick, head over to the troubleshooting notebook before the AI overlords notice!\")\n",
    "elif not api_key.startswith(\"sk-proj-\"):\n",
    "    print(\"🤔 An API key was found, but it doesn't start with 'sk-proj-'... Are you using the right key, or just waving a fake wand? Check the troubleshooting notebook!\")\n",
    "elif api_key.strip() != api_key:\n",
    "    print(\"😒 Found an API key, but it seems to have picked up some extra baggage (spaces or tabs) along the way. Trim that fluff and try again. Refer to the troubleshooting notebook!\")\n",
    "else:\n",
    "    print(\"🎉 API key detected and looking sharp! You're ready to summon GPT-4's wisdom—or madness. Good luck!\")\n"
   ]
  },
  {
   "cell_type": "code",
   "execution_count": null,
   "id": "7ec1533a-8ccc-425f-af42-f388286d1e01",
   "metadata": {},
   "outputs": [],
   "source": [
    "openai = OpenAI()\n",
    "# If this doesn't work, try the ancient ritual known as: Kernel menu >> Restart Kernel and Clear Outputs Of All Cells.\n",
    "# Then, bravely run the cells from the top like you're storming the castle. 🏰⚔️\n",
    "# \n",
    "# If it STILL doesn't work (cue dramatic music 🎻), then it's time to enter the dark forest of troubleshooting.\n",
    "# Bring snacks. And maybe a flashlight. 🔦🍕"
   ]
  },
  {
   "cell_type": "markdown",
   "id": "56167ff4-4e97-437a-a66e-cec8568ea2e8",
   "metadata": {},
   "source": [
    "**🚀 Let's make a quick call to a Frontier model to get started, as a preview!**\n",
    "\n",
    "**Think of this as poking a highly caffeinated AI bear with a stick. 🐻☕🤖**\n",
    "\n",
    "**Hopefully, it responds with wisdom and not a string of cryptic emojis. 🤞😅**"
   ]
  },
  {
   "cell_type": "code",
   "execution_count": null,
   "id": "8dd53753-db0e-4d2c-b81a-c3a7b89f8a89",
   "metadata": {},
   "outputs": [],
   "source": [
    "# To give you a preview — calling OpenAI with these messages is this easy. \n",
    "# Seriously, it's like texting a super-intelligent parrot. 🦜🤖\n",
    "# Any problems? Head over to the Troubleshooting before you spiral into existential despair.\n",
    "\n",
    "message = \"Hello, GPT! This is my first ever message to you! Hi!\"\n",
    "response = openai.chat.completions.create(model=\"gpt-4o-mini\", messages=[{\"role\":\"user\", \"content\":message}])\n",
    "\n",
    "# Brace yourself... You're about to hear from a glorified autocomplete with dreams. 🌟\n",
    "print(response.choices[0].message.content)"
   ]
  },
  {
   "cell_type": "code",
   "execution_count": 9,
   "id": "efc1cb04-d68b-4df6-bac0-71172c5db434",
   "metadata": {
    "tags": []
   },
   "outputs": [],
   "source": [
    "# 🏗️ A Class to Represent a Webpage (A.K.A. The Web-Sniffing Bloodhound) 🐕‍🦺\n",
    "# If you're not familiar with Classes, check out the \"Intermediate Python\" notebook.\n",
    "# And if you are familiar, well... congrats, you're a wizard. 🧙‍♂️✨\n",
    "\n",
    "# Some websites demand you present the right credentials, like a bouncer at an exclusive nightclub. 🕺💃\n",
    "headers = {\n",
    "    \"User-Agent\": \"Mozilla/5.0 (Windows NT 10.0; Win64; x64) AppleWebKit/537.36 (KHTML, like Gecko) Chrome/117.0.0.0 Safari/537.36\"\n",
    "}\n",
    "\n",
    "class Website:\n",
    "\n",
    "    def __init__(self, url):\n",
    "        \"\"\"\n",
    "        Create this Website object from the given url using the BeautifulSoup library.\n",
    "        Essentially, we're sending a polite robot to fetch the page content... and hoping it doesn't get shooed away. 🤖🚪\n",
    "        \"\"\"\n",
    "        self.url = url\n",
    "        response = requests.get(url, headers=headers)\n",
    "        soup = BeautifulSoup(response.content, 'html.parser')\n",
    "\n",
    "        # Attempting to grab the title... unless the site decides to be mysterious. 🕵️‍♀️\n",
    "        self.title = soup.title.string if soup.title else \"No title found\"\n",
    "\n",
    "        # Removing irrelevant tags like a picky toddler sorting vegetables from their plate. 🥦🚫\n",
    "        for irrelevant in soup.body([\"script\", \"style\", \"img\", \"input\"]):\n",
    "            irrelevant.decompose()\n",
    "\n",
    "        # Extracting the readable text... ideally, it's not just legal disclaimers. 📜🙄\n",
    "        self.text = soup.body.get_text(separator=\"\\n\", strip=True)\n"
   ]
  },
  {
   "cell_type": "code",
   "execution_count": null,
   "id": "34bc0d10-c6e8-4ddc-8cbd-06bb7824020d",
   "metadata": {
    "tags": []
   },
   "outputs": [],
   "source": [
    "# 🧪 Let's Try One Out! Time to Unleash the Web-Sniffing Bloodhound 🐕‍🦺\n",
    "# Change the website if you want, and add print statements to follow along.\n",
    "# Prepare to be flooded with text... or greeted by a 403 error. Either way, it's an adventure! 🚀\n",
    "\n",
    "capweb = Website(\"https://www.capitalone.com\")\n",
    "\n",
    "# 🎬 Roll out the red carpet for the title. Or, you know, awkwardly admit there's no title.\n",
    "print(f\"📖 Page Title: {capweb.title}\")\n",
    "\n",
    "# 📜 And now, the wall of text. Brace yourself... this could get messy.\n",
    "print(\"📝 Page Content Sniffed Out:\\n\")\n",
    "print(capweb.text[:500] + \"\\n... [Output truncated because nobody wants to read a novel right now.]\")"
   ]
  },
  {
   "cell_type": "markdown",
   "id": "5d9f314f-f961-4877-af7d-e986ea0d9f7f",
   "metadata": {},
   "source": [
    "## 📝 Types of Prompts - The Art of Talking to Robots 🤖🎤\n",
    "\n",
    "Alright, buckle up! If you’re not familiar with prompt types yet, you soon will be—like, *very* familiar. We're talking “mention-it-in-your-sleep” familiar. 😴💬\n",
    "\n",
    "Models like GPT-4o are trained to understand and respond to different types of instructions, and the magic is all in how you set up the conversation. They expect to receive:\n",
    "\n",
    "### 📋 **System Prompt** \n",
    "The polite but firm voice in the AI's head. It sets the stage, defines the rules, and basically gives the model its job description.   \n",
    "Think of it as:  \n",
    "- **The Drill Sergeant:** “Stay on topic, soldier! Your mission is to summarize.”  \n",
    "- **The Cheerful Host:** “Be friendly, helpful, and avoid existential crises, please.”  \n",
    "- **The Zen Master:** “Provide wisdom calmly, with no judgment. Also, no memes…unless asked.”  \n",
    "\n",
    "### 💬 **User Prompt**  \n",
    "The conversation starter—the \"Hey, can you help me with this?\" part. This is your chance to steer the AI in the right direction.  \n",
    "Think of it as:  \n",
    "- **The Curious Student:** “Explain quantum physics like I'm five.”  \n",
    "- **The Harried Developer:** “Why won't my code work? I’ve tried everything short of black magic.”  \n",
    "- **The Romantic Poet:** “Write a sonnet about pizza. Extra cheese, extra feelings.”  \n",
    "\n",
    "### 🧩 **Assistant Prompt** *(Sometimes Optional)*  \n",
    "When you need to nudge the AI mid-conversation or give it a bit of memory.  \n",
    "Think of it as:  \n",
    "- **The Stage Whisper:** “Psst… You're supposed to sound like Sherlock Holmes, remember?”  \n",
    "- **The Wingman:** “Mention their previous question about API keys. That’ll impress them.”  \n",
    "- **The Friendly Reminder:** “No sarcasm this time. They just need facts.”  \n",
    "\n",
    "---\n",
    "\n",
    "Prompting isn’t just a tool—it's an art form. 🎨 You’re crafting the AI’s personality and behavior with each prompt. Done right, it’s like training a super-intelligent parrot... one that can also code, write essays, and maybe even compose a love letter to your coffee machine. ☕❤️  \n"
   ]
  },
  {
   "cell_type": "code",
   "execution_count": null,
   "id": "78ca1435-99b5-45ff-b7f6-398079161846",
   "metadata": {},
   "outputs": [],
   "source": [
    "# Define our system prompt - you can experiment with this later, changing the last sentence to 'Respond in markdown in Spanish.\"\n",
    "\n",
    "system_prompt = \"You are an assistant that analyzes the contents of a website \\\n",
    "and provides a short summary, ignoring text that might be navigation related. \\\n",
    "Respond in markdown.\""
   ]
  },
  {
   "cell_type": "code",
   "execution_count": null,
   "id": "d0c39767-d418-4b2d-9516-4a9aef7f9538",
   "metadata": {},
   "outputs": [],
   "source": [
    "def user_prompt_for(website):\n",
    "    user_prompt = f\"You are looking at a website titled {website.title}\"\n",
    "    user_prompt += \"\\nThe contents of this website is as follows; \\\n",
    "please provide a short summary of this website in markdown. \\\n",
    "If it includes news or announcements, then summarize these too.\\n\\n\"\n",
    "    user_prompt += website.text\n",
    "    return user_prompt"
   ]
  },
  {
   "cell_type": "code",
   "execution_count": null,
   "id": "49aa780d-44dd-455c-8932-2770dfd5e7a2",
   "metadata": {},
   "outputs": [],
   "source": [
    "print(user_prompt_for(capweb))"
   ]
  },
  {
   "cell_type": "markdown",
   "id": "36cdcf34-f287-47ec-a79b-c271141c83bd",
   "metadata": {},
   "source": [
    "## 📦 Messages - The Language of Talking to AI Models\n",
    "\n",
    "OpenAI’s API, and many others, expect messages to be sent in a special structure. Why? Because it helps them understand who’s speaking and what the conversation is about—like handing a butler a neatly organized checklist instead of yelling random requests into a void. 📋🤖\n",
    "\n",
    "### 🔍 Why This Structure?\n",
    "OpenAI designed this message format to **simulate conversations** more naturally and **make interactions flexible and organized**. By breaking messages into different \"roles,\" it’s easier for the model to understand instructions, follow context, and respond appropriately. Plus, it's easier for developers to build complex systems where the AI might need to switch between different tasks or personalities. 🎭\n",
    "\n",
    "### 📦 The Structure\n",
    "\n",
    "Models like GPT-4o expect a list of messages formatted like this:\n",
    "\n",
    "```json\n",
    "[\n",
    "    {\"role\": \"system\", \"content\": \"You are a helpful assistant.\"},\n",
    "    {\"role\": \"user\", \"content\": \"What's the capital of France?\"}\n",
    "]\n",
    "\n",
    " \n",
    "\n"
   ]
  },
  {
   "cell_type": "markdown",
   "id": "7ead18ca-6b25-4a2d-946e-ebf6a89fa24c",
   "metadata": {},
   "source": [
    "### 📌 What Each Part Means\n",
    "\n",
    "- **`role`**: Defines who’s speaking. Common roles include:  \n",
    "  - **`system`**: Sets the rules and tone. Think of it like the AI’s mission briefing.  \n",
    "  - **`user`**: This is you! The person asking questions or giving instructions.  \n",
    "  - **`assistant`**: The AI’s response. This will be filled in by the model.  \n",
    "\n",
    "- **`content`**: The actual message being sent by that role. "
   ]
  },
  {
   "cell_type": "markdown",
   "id": "a13d416a-49ca-4253-91c2-c2a4e26727d4",
   "metadata": {},
   "source": [
    "### 📌 Why It's Done Like This\n",
    "\n",
    "- **Organization:** Keeping track of who's speaking and what they're saying makes conversations clear and easy to follow.  \n",
    "- **Flexibility:** Models can handle complex instructions better when they know the difference between setup instructions and questions.  \n",
    "- **Scalability:** It’s easier to build larger, more sophisticated applications with this consistent structure.  \n",
    "\n",
    "So, basically, it's like passing notes in class... if the notes were written by a super-intelligent robot. 🤖✍️\n",
    "\n",
    "Now, let's see it in action! 🚀"
   ]
  },
  {
   "cell_type": "code",
   "execution_count": 22,
   "id": "44e155c5-d38b-4825-9f65-9a5b0b209960",
   "metadata": {
    "tags": []
   },
   "outputs": [],
   "source": [
    "# Setting up the conversation - because who doesn't want a snarky AI doing math? 🤖😏\n",
    "messages = [\n",
    "    {\"role\": \"system\", \"content\": \"You are a snarky assistant\"},\n",
    "    {\"role\": \"user\", \"content\": \"What is 2 + 2?\"}\n",
    "]\n",
    "\n",
    "# Honestly, if it responds with 'Fish', we might be dealing with an AI comedian. 🎤😆\n"
   ]
  },
  {
   "cell_type": "code",
   "execution_count": null,
   "id": "db2616a8-6d33-41d8-9bdd-8ebf62d83b64",
   "metadata": {},
   "outputs": [],
   "source": [
    "# To give you a preview -- calling OpenAI with system and user messages:\n",
    "\n",
    "response = openai.chat.completions.create(model=\"gpt-4o-mini\", messages=messages)\n",
    "print(response.choices[0].message.content)"
   ]
  },
  {
   "cell_type": "markdown",
   "id": "a59c7295-e170-47ce-9d87-5447a878026d",
   "metadata": {},
   "source": [
    "## And now let's build useful messages for GPT-4o-mini, using a function"
   ]
  },
  {
   "cell_type": "code",
   "execution_count": null,
   "id": "a10a6c1f-1617-44b1-83be-0e1c875156e3",
   "metadata": {},
   "outputs": [],
   "source": [
    "# See how this function creates exactly the format above\n",
    "\n",
    "def messages_for(website):\n",
    "    return [\n",
    "        {\"role\": \"system\", \"content\": system_prompt},\n",
    "        {\"role\": \"user\", \"content\": user_prompt_for(website)}\n",
    "    ]"
   ]
  },
  {
   "cell_type": "code",
   "execution_count": null,
   "id": "f14178b2-a54b-46e5-8460-cd89490dd50f",
   "metadata": {},
   "outputs": [],
   "source": [
    "messages_for(capweb)"
   ]
  },
  {
   "cell_type": "markdown",
   "id": "4d519526-3e6e-4f7a-b3f4-9cb6c795bc8b",
   "metadata": {},
   "source": [
    "## Time to bring it together - the API for OpenAI is very simple!"
   ]
  },
  {
   "cell_type": "code",
   "execution_count": 26,
   "id": "05b8558d-e96e-4ddf-ba40-10788e193a3b",
   "metadata": {
    "tags": []
   },
   "outputs": [],
   "source": [
    "# And now: call the OpenAI API. You will get very familiar with this!\n",
    "\n",
    "def summarize(url):\n",
    "    website = Website(url)\n",
    "    response = openai.chat.completions.create(\n",
    "        model = \"gpt-4o-mini\",\n",
    "        messages = messages_for(website)\n",
    "    )\n",
    "    return response.choices[0].message.content"
   ]
  },
  {
   "cell_type": "code",
   "execution_count": null,
   "id": "9f896316-6d8c-41e3-b0e3-dd5bd7a44e09",
   "metadata": {},
   "outputs": [],
   "source": [
    "summarize(\"https://www.capitalone.com\")"
   ]
  },
  {
   "cell_type": "code",
   "execution_count": 28,
   "id": "1943cc86-6987-4865-8a55-12dacb98909f",
   "metadata": {
    "tags": []
   },
   "outputs": [],
   "source": [
    "# A function to display this nicely in the Jupyter output, using markdown\n",
    "\n",
    "def display_summary(url):\n",
    "    summary = summarize(url)\n",
    "    display(Markdown(summary))"
   ]
  },
  {
   "cell_type": "code",
   "execution_count": null,
   "id": "73b6ab86-0c60-4fdd-813c-d24144b00ed0",
   "metadata": {},
   "outputs": [],
   "source": [
    "display_summary(\"https://www.capitalone.com\")"
   ]
  },
  {
   "cell_type": "markdown",
   "id": "66414258-402f-443d-a908-9f64231823e4",
   "metadata": {},
   "source": [
    "## 🌐 Let's Try More Websites!\n",
    "\n",
    "Feel free to throw more URLs at the web-sniffing bloodhound. 🐕‍🦺 Just keep in mind:\n",
    "\n",
    "- **JavaScript-Heavy Sites (React apps, etc.)** - They’ll ghost you. This approach only grabs static HTML. \n",
    "- **CloudFront & Friends (403 Errors)** - Some sites are like bouncers at exclusive clubs. If you hit a `403`, it means “Nope, not today.”🎩\n",
    "\n",
    "But hey, most regular websites will work just fine! 🚀 Give it a shot.\n"
   ]
  },
  {
   "cell_type": "code",
   "execution_count": null,
   "id": "99587c74-e1fe-4975-a884-98cef411ae81",
   "metadata": {},
   "outputs": [],
   "source": [
    "display_summary(\"https://cnn.com\")"
   ]
  },
  {
   "cell_type": "code",
   "execution_count": null,
   "id": "0666b51e-fe9a-465d-81b6-03615eecb76a",
   "metadata": {},
   "outputs": [],
   "source": [
    "display_summary(\"https://anthropic.com\")"
   ]
  },
  {
   "cell_type": "markdown",
   "id": "a6ee7cb3-7539-4499-a4e4-7a3131419fbe",
   "metadata": {},
   "source": [
    "<table style=\"margin: 0; text-align: left;\">\n",
    "    <tr>\n",
    "        <td style=\"width: 150px; height: 150px; vertical-align: middle;\">\n",
    "            <img src=\"../business.png\" width=\"150\" height=\"150\" style=\"display: block;\" />\n",
    "        </td>\n",
    "        <td>\n",
    "            <h2 style=\"color:#181;\">🚀 Business Applications</h2>\n",
    "            <span style=\"color:#181;\">\n",
    "                You've just made your first API call to a Frontier Model—congrats! 🎉 Throughout this course, we'll use tools like OpenAI APIs and even build our own LLMs.  \n",
    "                <br><br>\n",
    "                📌 **What You Just Did:** You tried Summarization—turning long text into short, useful summaries. This technique works for:  \n",
    "                - Summarizing news articles 📰  \n",
    "                - Breaking down financial reports 📈  \n",
    "                - Crafting resume summaries for cover letters 📄  \n",
    "                <br>\n",
    "                Think about how you can use Summarization for your business and start prototyping! 🌟\n",
    "            </span>\n",
    "        </td>\n",
    "    </tr>\n",
    "</table>\n",
    "\n",
    "<table style=\"margin: 0; text-align: left;\">\n",
    "    <tr>\n",
    "        <td style=\"width: 150px; height: 150px; vertical-align: middle;\">\n",
    "            <img src=\"../important.png\" width=\"150\" height=\"150\" style=\"display: block;\" />\n",
    "        </td>\n",
    "        <td>\n",
    "            <h2 style=\"color:#900;\">🔥 Now It's Your Turn!</h2>\n",
    "            <span style=\"color:#900;\">\n",
    "                Ready to build your own example? Stick with Summarization for now. Here's a fun challenge:  \n",
    "                <br><br>\n",
    "                ✉️ **Idea:** Write something that reads the contents of an email and suggests a short, catchy subject line.  \n",
    "                This is the kind of feature that would fit perfectly in a commercial email tool. Give it a try!\n",
    "            </span>\n",
    "        </td>\n",
    "    </tr>\n",
    "</table>\n"
   ]
  },
  {
   "cell_type": "code",
   "execution_count": null,
   "id": "6faa04f5-bac2-46b1-a39b-fb9c731836e6",
   "metadata": {},
   "outputs": [],
   "source": [
    "# Step 1: Create your prompts\n",
    "\n",
    "system_prompt = \"something here\"\n",
    "user_prompt = \"\"\"\n",
    "    Lots of text\n",
    "    Can be pasted here\n",
    "\"\"\"\n",
    "\n",
    "# Step 2: Make the messages list\n",
    "\n",
    "messages = [] # fill this in\n",
    "\n",
    "# Step 3: Call OpenAI\n",
    "\n",
    "response =\n",
    "\n",
    "# Step 4: print the result\n",
    "\n",
    "print("
   ]
  },
  {
   "cell_type": "markdown",
   "id": "3e9cfaf7-4e97-4819-8766-6b9b0259ef92",
   "metadata": {},
   "source": [
    "<table style=\"margin: 0; text-align: left;\">\n",
    "    <tr>\n",
    "        <td style=\"width: 150px; height: 150px; vertical-align: middle;\">\n",
    "            <img src=\"../congratulations.png\" width=\"150\" height=\"150\" style=\"display: block;\" />\n",
    "        </td>\n",
    "        <td>\n",
    "            <h2 style=\"color:#4CAF50;\">🎉 Congratulations, You Did It! 🚀</h2>\n",
    "            <span style=\"color:#4CAF50;\">\n",
    "                You've completed your first lab like an absolute pro! 👏 And guess what? The AI overlords are officially impressed. 🤖🎩  \n",
    "                <br><br>\n",
    "                📌 **What You Just Accomplished:**  \n",
    "                - Connected to a Frontier Model 🌌  \n",
    "                - Played with Summarization like a wizard with words 🪄  \n",
    "                - Made a robot respond to your commands. Who’s the boss now? 💪  \n",
    "                <br>\n",
    "                Now go celebrate! Or dive into the next challenge, because you’re obviously unstoppable. 🚀🔥\n",
    "            </span>\n",
    "        </td>\n",
    "    </tr>\n",
    "</table>"
   ]
  },
  {
   "cell_type": "code",
   "execution_count": null,
   "id": "48eb5363-fec9-4aac-b1aa-2d69da207a7a",
   "metadata": {},
   "outputs": [],
   "source": []
  }
 ],
 "metadata": {
  "kernelspec": {
   "display_name": "Python 3 (ipykernel)",
   "language": "python",
   "name": "python3"
  },
  "language_info": {
   "codemirror_mode": {
    "name": "ipython",
    "version": 3
   },
   "file_extension": ".py",
   "mimetype": "text/x-python",
   "name": "python",
   "nbconvert_exporter": "python",
   "pygments_lexer": "ipython3",
   "version": "3.11.7"
  }
 },
 "nbformat": 4,
 "nbformat_minor": 5
}
