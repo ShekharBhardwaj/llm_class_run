{
 "cells": [
  {
   "cell_type": "markdown",
   "id": "f9f0ee20-6f4d-4ea0-a9e6-79f565a39421",
   "metadata": {},
   "source": [
    "<table style=\"margin: 0; text-align: left;\">\n",
    "    <tr>\n",
    "        <td style=\"width: 150px; height: 150px; vertical-align: middle;\">\n",
    "            <img src=\"../babyyoda_learning_ai.png\" width=\"150\" height=\"150\" style=\"display: block;\" />\n",
    "        </td>\n",
    "        <td>\n",
    "            <h2 style=\"color:#181;\">🎉 What You Can Do ALREADY (You Genius, You!) 🤓💪</h2>\n",
    "            <span style=\"color:#181;\">\n",
    "                You've already unlocked some serious AI skills! Check out what you've mastered so far:  \n",
    "                <br><br>\n",
    "                ✅ <strong>Use Ollama to run LLMs locally on your box:</strong> You're basically the AI version of a mad scientist tinkering in your lab. 🧪🔬  \n",
    "                <br><br>\n",
    "                ✅ <strong>Write code to call OpenAI's frontier models:</strong> You've successfully whispered sweet nothings to a super-smart machine. 🤖💌  \n",
    "                <br><br>\n",
    "                ✅ <strong>Distinguish between the System and User prompt:</strong> You've mastered AI etiquette—basically teaching robots to mind their manners. 🤵🤖  \n",
    "                <br><br>\n",
    "                ✅ <strong>Summarization - applicable to many commercial uses:</strong> You're now a professional text shrinker. Turning novels into tweets like a pro. 📚➡️🐦  \n",
    "                <br><br>\n",
    "                Keep going, you code wizard! 🧙‍♂️✨ Who knows what epic skills you’ll unlock next? 🚀  \n",
    "            </span>\n",
    "        </td>\n",
    "    </tr>\n",
    "</table>\n"
   ]
  }
 ],
 "metadata": {
  "kernelspec": {
   "display_name": "Python 3 (ipykernel)",
   "language": "python",
   "name": "python3"
  },
  "language_info": {
   "codemirror_mode": {
    "name": "ipython",
    "version": 3
   },
   "file_extension": ".py",
   "mimetype": "text/x-python",
   "name": "python",
   "nbconvert_exporter": "python",
   "pygments_lexer": "ipython3",
   "version": "3.11.11"
  }
 },
 "nbformat": 4,
 "nbformat_minor": 5
}
