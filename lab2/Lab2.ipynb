{
 "cells": [
  {
   "cell_type": "markdown",
   "id": "7860e9e0-b3c2-4e81-b3e7-c017d9eadcc5",
   "metadata": {},
   "source": [
    "# 🎉 Welcome to Your First Assignment! 📚📝\n",
    "\n",
    "Brace yourself—it's homework time! But don’t worry, this is the fun kind. 😄  \n",
    "Instructions are below. If you get stuck, feel free to peek into the solutions folder or ask me. (Yes, cheating is allowed... this time.) 😉  \n",
    "\n",
    "---\n",
    "\n",
    "## 🚀 EXERCISE ASSIGNMENT\n",
    "\n",
    "### 📌 Task: Upgrade Your First Project\n",
    "Make your webpage summarizer even cooler by running an **Open-Source Model locally via Ollama** instead of relying on OpenAI’s APIs. No credit card bills, just pure, free AI goodness. 🤑✨\n",
    "\n",
    "---\n",
    "\n",
    "### 🎁 Why Bother?\n",
    "\n",
    "**Benefits:**  \n",
    "- 💸 **No API charges:** Open-source = Free = Your wallet stays happy.  \n",
    "- 🔒 **Data Privacy:** Everything stays on your computer—no rogue robots stealing your secrets. 🤫  \n",
    "\n",
    "**Disadvantages:**  \n",
    "- 🦥 **Less Power:** Open-Source Models are like adorable baby dragons compared to the Frontier Model’s fire-breathing beast. 🐉🔥  \n",
    "\n",
    "---\n",
    "\n",
    "### 🔧 Recap on Installing Ollama\n",
    "\n",
    "1. **Step 1:** Visit [ollama.com](https://ollama.com) and install the Ollama software.  \n",
    "2. **Step 2:** Once complete, the Ollama server should already be running locally. To check, visit:  \n",
    "   👉 [http://localhost:11434/](http://localhost:11434/)  \n",
    "\n",
    "   You should see the message:  \n",
    "   ```plaintext\n",
    "   Ollama is running.\n"
   ]
  },
  {
   "cell_type": "code",
   "execution_count": 2,
   "id": "46c93d79-a15e-41df-891b-e3607bc85222",
   "metadata": {},
   "outputs": [],
   "source": [
    "# imports\n",
    "\n",
    "import requests\n",
    "from bs4 import BeautifulSoup\n",
    "from IPython.display import Markdown, display"
   ]
  },
  {
   "cell_type": "code",
   "execution_count": 3,
   "id": "58b926c8-b46a-45cf-b8c2-ecf1068c423c",
   "metadata": {},
   "outputs": [],
   "source": [
    "# Constants\n",
    "\n",
    "OLLAMA_API = \"http://localhost:11434/api/chat\"\n",
    "HEADERS = {\"Content-Type\": \"application/json\"}\n",
    "MODEL = \"llama3.2\""
   ]
  },
  {
   "cell_type": "code",
   "execution_count": 4,
   "id": "e39a629a-a5a7-43ae-8347-58a872164355",
   "metadata": {},
   "outputs": [],
   "source": [
    "# Create a messages list using the same format that we used for OpenAI\n",
    "\n",
    "messages = [\n",
    "    {\"role\": \"user\", \"content\": \"Describe some of the business applications of Generative AI\"}\n",
    "]"
   ]
  },
  {
   "cell_type": "code",
   "execution_count": 5,
   "id": "3bec41f8-dfe0-4579-991e-d2e410d53074",
   "metadata": {},
   "outputs": [],
   "source": [
    "payload = {\n",
    "        \"model\": MODEL,\n",
    "        \"messages\": messages,\n",
    "        \"stream\": False\n",
    "    }"
   ]
  },
  {
   "cell_type": "code",
   "execution_count": 6,
   "id": "6f27f58b-fc0b-41d3-8602-980fe709ea05",
   "metadata": {},
   "outputs": [
    {
     "name": "stdout",
     "output_type": "stream",
     "text": [
      "\u001b[?25lpulling manifest ⠋ \u001b[?25h\u001b[?25l\u001b[2K\u001b[1Gpulling manifest ⠙ \u001b[?25h\u001b[?25l\u001b[2K\u001b[1Gpulling manifest ⠹ \u001b[?25h\u001b[?25l\u001b[2K\u001b[1Gpulling manifest ⠸ \u001b[?25h\u001b[?25l\u001b[2K\u001b[1Gpulling manifest \n",
      "pulling dde5aa3fc5ff... 100% ▕████████████████▏ 2.0 GB                         \n",
      "pulling 966de95ca8a6... 100% ▕████████████████▏ 1.4 KB                         \n",
      "pulling fcc5a6bec9da... 100% ▕████████████████▏ 7.7 KB                         \n",
      "pulling a70ff7e570d9... 100% ▕████████████████▏ 6.0 KB                         \n",
      "pulling 56bb8bd477a5... 100% ▕████████████████▏   96 B                         \n",
      "pulling 34bb5ab01051... 100% ▕████████████████▏  561 B                         \n",
      "verifying sha256 digest \n",
      "writing manifest \n",
      "success \u001b[?25h\n"
     ]
    }
   ],
   "source": [
    "# Let's just make sure the model is loaded\n",
    "\n",
    "!ollama pull llama3.2"
   ]
  },
  {
   "cell_type": "code",
   "execution_count": 7,
   "id": "1415a15b-3d5d-4837-865f-dcc90de056a0",
   "metadata": {},
   "outputs": [
    {
     "name": "stdout",
     "output_type": "stream",
     "text": [
      "Generative AI has numerous business applications across various industries, including:\n",
      "\n",
      "1. **Content Generation**: AI-powered tools can generate high-quality content such as articles, social media posts, product descriptions, and more. This can save time and resources for content creators and marketers.\n",
      "2. **Image and Video Creation**: Generative AI can create realistic images and videos that are indistinguishable from those created by humans. This application is popular in fields like advertising, entertainment, and education.\n",
      "3. **Personalized Recommendations**: Generative AI algorithms can analyze user behavior and preferences to provide personalized product recommendations, improving customer engagement and sales.\n",
      "4. **Chatbots and Virtual Assistants**: Generative AI-powered chatbots can understand and respond to customer inquiries, providing 24/7 support and improving customer experience.\n",
      "5. **Data Analysis and Visualization**: Generative AI can help analyze large datasets, identify patterns, and generate visualizations that reveal insights and trends, enabling data-driven decision-making.\n",
      "6. **Creative Writing and Editing**: AI-powered tools can assist writers with suggestions, editing, and even generating entire articles or stories, saving time and improving productivity.\n",
      "7. **Marketing and Advertising**: Generative AI can help create personalized ad content, product descriptions, and social media posts that resonate with target audiences.\n",
      "8. **Customer Service**: Generative AI-powered chatbots can provide automated support, routing customer inquiries to human representatives when needed.\n",
      "9. **Predictive Maintenance and Quality Control**: Generative AI algorithms can analyze sensor data from machines and predict potential failures or defects, enabling proactive maintenance and quality control measures.\n",
      "10. **Cybersecurity**: Generative AI can help detect and respond to cyber threats by analyzing network traffic, identifying patterns, and generating alerts for security teams.\n",
      "\n",
      "Some specific business use cases include:\n",
      "\n",
      "* A fashion brand using generative AI to create new product designs, reduce design time, and improve product quality.\n",
      "* A healthcare company using generative AI to analyze medical images, identify diseases, and develop personalized treatment plans.\n",
      "* An e-commerce platform using generative AI to generate product descriptions, social media posts, and recommendations that drive sales.\n",
      "* A manufacturing company using generative AI to predict equipment failures, optimize production processes, and reduce downtime.\n",
      "\n",
      "These are just a few examples of the many business applications of Generative AI. As the technology continues to evolve, we can expect to see even more innovative uses across various industries.\n"
     ]
    }
   ],
   "source": [
    "# 😅 If this doesn't work for any reason\n",
    "# 1. Check your code, sometimes code just wants to keep you humble. 🤷‍♂️\n",
    "# 2. Double-check the instructions under 'Recap on installation of Ollama' at the top of this lab. Seriously, it's like checking if your toaster is plugged in. 🔌🍞\n",
    "# 3. If NONE of that works—congratulations, you’ve officially entered the “What The Heck?” Zone. 🎢 \n",
    "#    Ask for Shekhar before you start considering sacrificing your keyboard to the AI gods. 🙏💻🔥\n",
    "\n",
    "response = requests.post(OLLAMA_API, json=payload, headers=HEADERS)\n",
    "print(response.json().get('message', {}).get('content', \"🤔 Hmm... Something went wrong, and the AI refuses to explain itself.\"))\n"
   ]
  },
  {
   "cell_type": "markdown",
   "id": "6d729fff-9b9d-4b20-926b-6bc2d226cc0e",
   "metadata": {},
   "source": [
    "## 🌟 Introducing the `ollama` Package\n",
    "\n",
    "Now, let’s level up your AI wizardry by using the elegant `ollama` Python package instead of making clunky direct HTTP calls. 📦✨\n",
    "\n",
    "The magic? 🪄 Under the hood, it’s still making the same call to the Ollama server running at `localhost:11434`.  \n",
    "But now, you get to do it with style and grace—like riding a unicorn instead of a rusty tricycle. 🦄🚲\n",
    "\n",
    "Ready to roll? Let’s do this! 🚀\n"
   ]
  },
  {
   "cell_type": "code",
   "execution_count": 8,
   "id": "66339501-e2c3-4c9a-930e-c4658dcbf97d",
   "metadata": {},
   "outputs": [
    {
     "name": "stdout",
     "output_type": "stream",
     "text": [
      "Generative AI has numerous business applications across various industries. Here are some examples:\n",
      "\n",
      "1. **Content Creation**: Generative AI can generate high-quality content such as articles, social media posts, product descriptions, and more. This can help reduce the workload of human writers and editors.\n",
      "2. **Image and Video Generation**: Generative AI can create realistic images and videos for advertising, marketing, and entertainment purposes. For example, it can generate custom product images or create special effects for movies and TV shows.\n",
      "3. **Chatbots and Virtual Assistants**: Generative AI can power chatbots and virtual assistants that can understand natural language and respond accordingly. This can help provide customer support, answer frequently asked questions, and more.\n",
      "4. **Predictive Maintenance**: Generative AI can analyze data from sensors and predict when maintenance is needed for equipment or machinery. This can help reduce downtime and increase efficiency.\n",
      "5. **Personalized Recommendations**: Generative AI can generate personalized product recommendations based on user behavior and preferences. This can be used in e-commerce, streaming services, and more.\n",
      "6. **Marketing and Advertising**: Generative AI can create targeted marketing campaigns, including personalized ads, social media posts, and email newsletters.\n",
      "7. **Product Design**: Generative AI can assist designers with generating new product concepts, colors, and textures.\n",
      "8. **Medical Diagnosis**: Generative AI can help doctors diagnose diseases more accurately by analyzing medical images and patient data.\n",
      "9. **Supply Chain Optimization**: Generative AI can optimize supply chain management by predicting demand, identifying bottlenecks, and suggesting the most efficient routes for logistics.\n",
      "10. **Creative Writing**: Generative AI can assist writers with generating ideas, outlining stories, or even completing entire scripts.\n",
      "11. **Music Composition**: Generative AI can compose music that is tailored to a specific style, genre, or mood.\n",
      "12. **Language Translation**: Generative AI can improve language translation by generating more accurate and nuanced translations.\n",
      "13. **Customer Service Analytics**: Generative AI can analyze customer service data to identify trends, predict customer behavior, and suggest improvements to the customer experience.\n",
      "14. **Financial Analysis**: Generative AI can analyze financial data to identify patterns, predict market trends, and generate investment suggestions.\n",
      "\n",
      "These are just a few examples of the many business applications of Generative AI. As the technology continues to evolve, we can expect to see even more innovative uses across various industries.\n"
     ]
    }
   ],
   "source": [
    "import ollama\n",
    "\n",
    "response = ollama.chat(model=MODEL, messages=messages)\n",
    "print(response['message']['content'])"
   ]
  },
  {
   "cell_type": "markdown",
   "id": "f34a39cd-d6f7-41aa-8025-a04eb08c693b",
   "metadata": {},
   "source": [
    "## 🔄 Alternative Approach - Using the OpenAI Python Library to Connect to Ollama\n",
    "\n",
    "Here’s another trick up your sleeve: Instead of using raw HTTP calls, you can connect to Ollama using the **OpenAI Python library**. 🐍✨\n",
    "\n",
    "Why? Because sometimes it’s nice to let a library handle the boring stuff—like setting headers and dealing with weird error messages—while you bask in the glory of smooth, streamlined code. 😎📈\n",
    "\n",
    "And don’t worry, it’s still hitting the same Ollama server at `localhost:11434`. Just with a bit more finesse. 💅\n",
    "\n",
    "Let’s make some AI magic happen! 🚀\n"
   ]
  },
  {
   "cell_type": "code",
   "execution_count": 9,
   "id": "2d40e9e3-35f3-460f-9ae8-4dd390690696",
   "metadata": {},
   "outputs": [
    {
     "name": "stdout",
     "output_type": "stream",
     "text": [
      "Generative Artificial Intelligence (AI) has numerous business applications across various industries, including:\n",
      "\n",
      "1. **Content Creation**: Generative AI can create high-quality, engaging content such as articles, social media posts, product descriptions, and even entire blogs. This can save time and improve the efficiency of content creation processes.\n",
      "2. **Customer Service Chatbots**: Generative AI-powered chatbots can provide 24/7 customer support, answering common queries and helping to reduce the number of human interactions needed.\n",
      "3. **Marketing Automation**: Generative AI can create personalized marketing messages, product descriptions, and even entire ad campaigns at scale, allowing businesses to optimize their marketing efforts and scale their advertising budgets.\n",
      "4. **Product Design and Prototyping**: Generative AI can generate designs for products, packaging, and other visual elements, saving time and improving the efficiency of the design process.\n",
      "5. **Financial Modeling and Analysis**: Generative AI can create financial models, forecasts, and predictions, allowing businesses to make more informed investment decisions and optimize their financial performance.\n",
      "6. **Supply Chain Optimization**: Generative AI can analyze supply chain data and generate optimized routes for delivery trucks, reducing transportation costs and improving efficiency.\n",
      "7. **Human Resource Management**: Generative AI-powered recruitment tools can generate job descriptions, candidate matching algorithms, and even entire HR workflows, freeing up human resources teams to focus on high-value tasks.\n",
      "8. **Predictive Maintenance**: Generative AI can analyze equipment performance data and predict potential maintenance needs, preventing downtime and reducing maintenance costs for industries such as manufacturing and transportation.\n",
      "9. **Text Summarization and Analytics**: Generative AI can automate the process of summarizing large documents, presentations, or emails, saving time and improving the efficiency of knowledge sharing within businesses.\n",
      "10. **Image Generation and Reconstruction**: Generative AI can create high-quality images from text descriptions, 3D models, and even reconstruct damaged or missing images, having applications in fields such as photography, art, and restoration.\n",
      "\n",
      "These are just a few examples of the many business applications of Generative AI. As the technology continues to evolve, we can expect to see even more innovative use cases emerge across various industries.\n",
      "\n",
      "Potential Use Cases:\n",
      "\n",
      "1. Fashion: Designing new products, predicting demand, and generating personalized product recommendations.\n",
      "2. Healthcare: Analyzing medical images, predicting patient outcomes, and generating personalized treatment plans.\n",
      "3. Education: Personalized learning materials, adaptive assessments, and automated grading systems.\n",
      "4. Construction: Generating 2D and 3D models of buildings, optimizing construction workflows, and predicting building performance.\n",
      "\n",
      "By automating routine tasks and augmenting human capabilities with Generative AI, businesses can:\n",
      "\n",
      "1. Improve efficiency and productivity\n",
      "2. Enhance customer experiences\n",
      "3. Optimize operations and reduce costs\n",
      "4. Unlock new product innovation and creativity\n",
      "\n",
      "Generative AI has the potential to transform various industries and revolutionize the way businesses operate, making it an exciting area of exploration for companies looking to leverage emerging technologies.\n"
     ]
    }
   ],
   "source": [
    "# There's actually an alternative approach that some people might prefer\n",
    "# You can use the OpenAI client python library to call Ollama:\n",
    "\n",
    "from openai import OpenAI\n",
    "ollama_via_openai = OpenAI(base_url='http://localhost:11434/v1', api_key='ollama')\n",
    "\n",
    "response = ollama_via_openai.chat.completions.create(\n",
    "    model=MODEL,\n",
    "    messages=messages\n",
    ")\n",
    "\n",
    "print(response.choices[0].message.content)"
   ]
  },
  {
   "cell_type": "markdown",
   "id": "7b1d128a-8dfc-414c-b2c1-3c49010f99e8",
   "metadata": {},
   "source": [
    "## 🤔 Wait... Why Does That Work? \n",
    "\n",
    "Yeah, it sounds a bit bonkers, right? 🤪 You just used **OpenAI code** to call **Ollama**. Like trying to order pizza with an Uber app. So, what’s the deal here? 🍕🚕🤖\n",
    "\n",
    "### 📖 Here’s the Deal:\n",
    "\n",
    "The `OpenAI` Python class is **just a fancy piece of code** that OpenAI’s engineers wrote to make API calls.  \n",
    "It’s like a super-convenient mailman that delivers your requests to the right place. 📬✨\n",
    "\n",
    "### 🔍 What’s Actually Happening Under the Hood:\n",
    "\n",
    "- When you call:\n",
    "  ```python\n",
    "  openai.ChatCompletion.create()\n",
    "- This code simply makes a web request to this URL:\n",
    "  ```plaintext\n",
    "  https://api.openai.com/v1/chat/completions\n",
    "- This “client library” is just wrapper code that handles all the boring details of making web requests and parsing responses.\n",
    "- The real heavy-lifting happens on OpenAI’s cloud servers, not your local machine. Your code just sends a polite “Hey, can you do this for me?” request. 🙋‍♂️📡🌩️\n"
   ]
  },
  {
   "cell_type": "markdown",
   "id": "f418f1c8-ee2c-4ace-91b3-56336aa225c1",
   "metadata": {},
   "source": [
    "## 🧩 Why Does This Work With Ollama?\n",
    "\n",
    "OpenAI’s API approach became so popular that **other AI providers decided to copy their playbook**.  \n",
    "Instead of reinventing the wheel, they built **compatible endpoints** that look and act just like OpenAI’s. 🚀\n",
    "\n",
    "---\n",
    "\n",
    "### 🔌 Ollama’s Trick\n",
    "\n",
    "Ollama hosts a server **locally** on your machine at:  \n",
    "```plaintext\n",
    "http://localhost:11434/v1/chat/completions\n",
    "\n",
    "And guess what? Ollama speaks the same API language as OpenAI’s API! 🎤\n",
    "It’s like teaching your cat to bark just so the dog will listen. 🐱➡️🐶"
   ]
  },
  {
   "cell_type": "markdown",
   "id": "f61c26d6-1c51-4a2f-97e7-503cd072759c",
   "metadata": {},
   "source": [
    "### 💡 The Clever Twist\n",
    "\n",
    "The engineers at OpenAI had a *brilliant* idea:  \n",
    "\n",
    "> **“Why not let developers change the `base_url` and call compatible APIs with our client library?”** 🎩✨  \n",
    "\n",
    "So, they made it possible for you to do this:  \n",
    "```python\n",
    "ollama_via_openai = OpenAI(base_url='http://localhost:11434/v1', api_key='ollama')\n",
    "\n",
    "This command reroutes your requests to Ollama’s endpoint instead of OpenAI’s—like swapping the address on a letter before mailing it. 📬📦\n",
    "\n",
    "And that’s it! No dark magic, no wizard contract with the AI overlords—just a clever little trick that makes your life easier. 😄🔑"
   ]
  },
  {
   "cell_type": "markdown",
   "id": "9be3f28d-7bc0-4961-b416-f3a205d7dc85",
   "metadata": {},
   "source": [
    "### 🚀 So Why Does This Matter?\n",
    "\n",
    "Now you can use the same **OpenAI client library** to talk to **Ollama, Gemini, DeepSeek**, or pretty much any other compatible AI model out there.  \n",
    "It's like having a **universal remote for AI**. 📺🤖✨  \n",
    "\n",
    "Next up: **Let’s take this superpower and build something awesome!** 💪🔥  \n"
   ]
  },
  {
   "cell_type": "code",
   "execution_count": null,
   "id": "1794dff7-164b-4b3e-8e12-b9621650f628",
   "metadata": {},
   "outputs": [],
   "source": []
  }
 ],
 "metadata": {
  "kernelspec": {
   "display_name": "Python 3 (ipykernel)",
   "language": "python",
   "name": "python3"
  },
  "language_info": {
   "codemirror_mode": {
    "name": "ipython",
    "version": 3
   },
   "file_extension": ".py",
   "mimetype": "text/x-python",
   "name": "python",
   "nbconvert_exporter": "python",
   "pygments_lexer": "ipython3",
   "version": "3.11.11"
  }
 },
 "nbformat": 4,
 "nbformat_minor": 5
}
