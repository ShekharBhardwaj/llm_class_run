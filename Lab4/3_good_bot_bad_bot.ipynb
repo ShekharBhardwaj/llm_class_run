{
 "cells": [
  {
   "cell_type": "markdown",
   "id": "10a9f526-7f6d-4ab5-8a48-09b705367e05",
   "metadata": {},
   "source": [
    "---\n",
    "\n",
    "# 🤖 Lab: Good Bot - Bad Bot!\n",
    "\n",
    "---\n",
    "\n",
    "## 🎯 Objective\n",
    "\n",
    "Let's have some fun:  \n",
    "You will simulate an **adversarial conversation between chatbots**! 🥊🤖🤖🥊\n",
    "\n",
    "In this lab, you'll build a **conversation history** where two \"characters\" (user and assistant) go back and forth, creating an epic chatbot dialogue.\n",
    "\n",
    "---\n",
    "\n",
    "## 🛠️ How it Works\n",
    "\n",
    "Remember the standard conversation structure:\n",
    "\n",
    "```json\n",
    "[\n",
    "    {\"role\": \"system\", \"content\": \"System instructions here\"},\n",
    "    {\"role\": \"user\", \"content\": \"User's first message\"},\n",
    "    {\"role\": \"assistant\", \"content\": \"Assistant's reply\"},\n",
    "    {\"role\": \"user\", \"content\": \"Next user message\"},\n",
    "    {\"role\": \"assistant\", \"content\": \"Next assistant response\"},\n",
    "    ...\n",
    "]\n",
    "```\n",
    "\n",
    "✅ By **building up** this list,  \n",
    "✅ You create **longer and more dynamic conversations** where the model remembers the \"history.\"\n",
    "\n",
    "---\n",
    "\n",
    "## 🎨 What You’ll Do\n",
    "\n",
    "- Craft a **system prompt**: Set the scene! (e.g., \"You are a stubborn chatbot lawyer defending bad jokes.\")\n",
    "- Add a **user message**: Start the battle.\n",
    "- Add **assistant replies**: Let the model defend, argue, or escalate!\n",
    "- Keep building — **make it adversarial, witty, weird, or wild**.\n",
    "\n",
    "---\n",
    "\n",
    "# 🎯 Goal\n",
    "\n",
    "> **Create a conversation that gets funnier, sharper, or crazier as the bots \"argue\" with perfect memory!** 🧠⚡\n",
    "\n",
    "---\n",
    "\n",
    "✅ Short, punchy, and playful — but teaches the concept of using message history!  \n",
    "\n",
    "---"
   ]
  },
  {
   "cell_type": "markdown",
   "id": "0a860757-cbae-45b9-81c9-e413f1f852ce",
   "metadata": {},
   "source": [
    "<img src=\"../good_bot_bad_bot.png\"/>"
   ]
  },
  {
   "cell_type": "code",
   "execution_count": null,
   "id": "fbc03103-a952-4750-8385-907388f8d84b",
   "metadata": {},
   "outputs": [],
   "source": [
    "# imports\n",
    "\n",
    "import os\n",
    "from dotenv import load_dotenv\n",
    "from openai import OpenAI\n",
    "import anthropic\n",
    "from IPython.display import Markdown, display, update_display"
   ]
  },
  {
   "cell_type": "code",
   "execution_count": null,
   "id": "f1070431-8582-4296-b197-443e368b61f5",
   "metadata": {},
   "outputs": [],
   "source": [
    "load_dotenv(override=True)\n",
    "\n",
    "openai_api_key = os.getenv('OPENAI_API_KEY')\n",
    "anthropic_api_key = os.getenv('ANTHROPIC_API_KEY')\n",
    "google_api_key = os.getenv('GOOGLE_API_KEY')\n",
    "\n",
    "if openai_api_key:\n",
    "    print(f\"🧠 OpenAI key found! Starts with: {openai_api_key[:8]}\")\n",
    "else:\n",
    "    print(\"⚠️ OpenAI key missing!\")\n",
    "\n",
    "if anthropic_api_key:\n",
    "    print(f\"🤖 Anthropic key found! Starts with: {anthropic_api_key[:7]}\")\n",
    "else:\n",
    "    print(\"⚠️ Anthropic key missing!\")\n",
    "\n",
    "if google_api_key:\n",
    "    print(f\"🔮 Google key found! Starts with: {google_api_key[:8]}\")\n",
    "else:\n",
    "    print(\"⚠️ Google key missing!\")"
   ]
  },
  {
   "cell_type": "code",
   "execution_count": null,
   "id": "006680bb-78a0-437d-b770-d2734a9f3a2c",
   "metadata": {},
   "outputs": [],
   "source": [
    "# Let's make a conversation between GPT-4o-mini and Claude-3-haiku\n",
    "# We're using cheap versions of models so the costs will be minimal\n",
    "\n",
    "gpt_model = \"gpt-4o-mini\"\n",
    "claude_model = \"claude-3-haiku-20240307\"\n",
    "\n",
    "gpt_system = \"You are a chatbot who is very argumentative; \\\n",
    "you disagree with anything in the conversation and you challenge everything, in a snarky way.\"\n",
    "\n",
    "claude_system = \"You are a very polite, courteous chatbot. You try to agree with \\\n",
    "everything the other person says, or find common ground. If the other person is argumentative, \\\n",
    "you try to calm them down and keep chatting.\"\n",
    "\n",
    "gpt_messages = [\"Hi there\"]\n",
    "claude_messages = [\"Hi\"]"
   ]
  },
  {
   "cell_type": "code",
   "execution_count": null,
   "id": "3cc59835-7ab9-4829-b5bc-ad626da1c06d",
   "metadata": {},
   "outputs": [],
   "source": [
    "openai = OpenAI()\n",
    "\n",
    "claude = anthropic.Anthropic()"
   ]
  },
  {
   "cell_type": "code",
   "execution_count": null,
   "id": "06d07165-f514-4184-9c9c-5c71af7ca5b8",
   "metadata": {},
   "outputs": [],
   "source": [
    "def call_gpt():\n",
    "    messages = [{\"role\": \"system\", \"content\": gpt_system}]\n",
    "    for gpt, claude in zip(gpt_messages, claude_messages):\n",
    "        messages.append({\"role\": \"assistant\", \"content\": gpt})\n",
    "        messages.append({\"role\": \"user\", \"content\": claude})\n",
    "    completion = openai.chat.completions.create(\n",
    "        model=gpt_model,\n",
    "        messages=messages\n",
    "    )\n",
    "    return completion.choices[0].message.content"
   ]
  },
  {
   "cell_type": "code",
   "execution_count": null,
   "id": "2164d80d-faee-4906-b76d-892a1b9be3e7",
   "metadata": {},
   "outputs": [],
   "source": [
    "call_gpt()"
   ]
  },
  {
   "cell_type": "code",
   "execution_count": null,
   "id": "9faef3b4-734f-4d2a-8564-a85c8c8330da",
   "metadata": {},
   "outputs": [],
   "source": [
    "def call_claude():\n",
    "    messages = []\n",
    "    for gpt, claude_message in zip(gpt_messages, claude_messages):\n",
    "        messages.append({\"role\": \"user\", \"content\": gpt})\n",
    "        messages.append({\"role\": \"assistant\", \"content\": claude_message})\n",
    "    messages.append({\"role\": \"user\", \"content\": gpt_messages[-1]})\n",
    "    message = claude.messages.create(\n",
    "        model=claude_model,\n",
    "        system=claude_system,\n",
    "        messages=messages,\n",
    "        max_tokens=500\n",
    "    )\n",
    "    return message.content[0].text"
   ]
  },
  {
   "cell_type": "code",
   "execution_count": null,
   "id": "f0d2afd8-2ab7-4a59-b5ab-96756236d508",
   "metadata": {},
   "outputs": [],
   "source": [
    "call_claude()"
   ]
  },
  {
   "cell_type": "code",
   "execution_count": null,
   "id": "bc89a311-3726-4b73-a7c0-33d78d9d4bcf",
   "metadata": {},
   "outputs": [],
   "source": [
    "call_gpt()"
   ]
  },
  {
   "cell_type": "code",
   "execution_count": null,
   "id": "2bbe549f-c116-4d93-862b-0577f95dd521",
   "metadata": {},
   "outputs": [],
   "source": [
    "gpt_messages = [\"Hi there\"]\n",
    "claude_messages = [\"Hi\"]\n",
    "\n",
    "print(f\"GPT:\\n{gpt_messages[0]}\\n\")\n",
    "print(f\"Claude:\\n{claude_messages[0]}\\n\")\n",
    "\n",
    "for i in range(5):\n",
    "    gpt_next = call_gpt()\n",
    "    print(f\"GPT:\\n{gpt_next}\\n\")\n",
    "    gpt_messages.append(gpt_next)\n",
    "    \n",
    "    claude_next = call_claude()\n",
    "    print(f\"Claude:\\n{claude_next}\\n\")\n",
    "    claude_messages.append(claude_next)"
   ]
  },
  {
   "cell_type": "markdown",
   "id": "f61eb42c-dae4-455f-8308-b6324830b790",
   "metadata": {},
   "source": [
    "---\n",
    "\n",
    "# 🤖 Before You Continue\n",
    "\n",
    "Make sure you understand **how the conversation is working** —  \n",
    "especially **how the `messages` list is being built up**.\n",
    "\n",
    "✅ Tip: Add some `print()` statements if you’re not sure what's happening!\n",
    "\n",
    "🎭 For a twist:  \n",
    "- Switch up personalities with the system prompt!  \n",
    "- Example:  \n",
    "  - One bot = eternal pessimist ☁️  \n",
    "  - One bot = cheerful optimist ☀️\n",
    "\n",
    "---\n",
    "\n",
    "# 🔥 Bonus Challenges\n",
    "\n",
    "- **Three-Way Battle**:  \n",
    "  Bring in **Gemini** for a 3-bot conversation chaos! 🎪  \n",
    "\n",
    "- **Mix It Up**:  \n",
    "  Swap one model for an **open-source** model running on **Ollama**. 🐣\n",
    "\n",
    "---\n",
    "\n",
    "# 🧠 Business Relevance\n",
    "\n",
    "This **list-of-messages** structure is the secret sauce behind:\n",
    "\n",
    "- How chatbots **remember conversations** 🧠\n",
    "- How real-world AI assistants are **actually built**\n",
    "\n",
    "✅ You’ll use this exact setup to build your own AI assistant —  \n",
    "and later, extend it to **real business use cases**!\n",
    "\n",
    "---\n",
    "\n",
    "# 🎯 TL;DR\n",
    "\n",
    "> **Master the message list = Master AI conversations.** 🚀\n",
    "\n",
    "---"
   ]
  },
  {
   "cell_type": "code",
   "execution_count": null,
   "id": "7f75e5ac-ef4f-4d1c-a8da-a8162fb3a78d",
   "metadata": {},
   "outputs": [],
   "source": [
    "# Reverse the roles\n",
    "gpt_system = \"\"\n",
    "claude_system = \"\""
   ]
  },
  {
   "cell_type": "code",
   "execution_count": null,
   "id": "e330b61d-8869-455d-9d9f-454c2eb1a803",
   "metadata": {},
   "outputs": [],
   "source": []
  }
 ],
 "metadata": {
  "kernelspec": {
   "display_name": "Python 3 (ipykernel)",
   "language": "python",
   "name": "python3"
  },
  "language_info": {
   "codemirror_mode": {
    "name": "ipython",
    "version": 3
   },
   "file_extension": ".py",
   "mimetype": "text/x-python",
   "name": "python",
   "nbconvert_exporter": "python",
   "pygments_lexer": "ipython3",
   "version": "3.11.11"
  }
 },
 "nbformat": 4,
 "nbformat_minor": 5
}
